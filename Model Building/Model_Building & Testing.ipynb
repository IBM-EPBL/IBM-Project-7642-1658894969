{
  "cells": [
    {
      "cell_type": "markdown",
      "metadata": {
        "id": "sLPVDKgGavvR"
      },
      "source": [
        "Date\t:10 November 2022\n",
        "\n",
        "Team ID\t:PNT2022TMID16515\n",
        "\n",
        "Project Name :\tAI-powered Nutrition Analyzer for Fitness Enthusiasts\n"
      ]
    },
    {
      "cell_type": "markdown",
      "metadata": {
        "id": "1kQLJD3ANOFS"
      },
      "source": [
        "# Data Collection"
      ]
    },
    {
      "cell_type": "markdown",
      "metadata": {
        "id": "DKSbwC-XNg9E"
      },
      "source": [
        "Download the dataset [here](https://drive.google.com/file/d/1jzDjV7jYcIzlIieagaJdubMJ3YeLsry1/view)"
      ]
    },
    {
      "cell_type": "code",
      "execution_count": 2,
      "metadata": {
        "colab": {
          "base_uri": "https://localhost:8080/"
        },
        "id": "Yqjgpm6xaQ5T",
        "outputId": "b69afe04-a009-4ef8-dada-08f60b1da1d3"
      },
      "outputs": [
        {
          "output_type": "stream",
          "name": "stdout",
          "text": [
            "Mounted at /content/drive\n"
          ]
        }
      ],
      "source": [
        "from google.colab import drive\n",
        "drive.mount('/content/drive')"
      ]
    },
    {
      "cell_type": "code",
      "execution_count": 3,
      "metadata": {
        "colab": {
          "base_uri": "https://localhost:8080/"
        },
        "id": "YwBvdTnoaXoa",
        "outputId": "899cf1c8-97ad-415b-bb9b-ebab095d73cf"
      },
      "outputs": [
        {
          "output_type": "stream",
          "name": "stdout",
          "text": [
            "/content/drive/MyDrive/Dataset\n"
          ]
        }
      ],
      "source": [
        "cd/content/drive/MyDrive/Dataset"
      ]
    },
    {
      "cell_type": "code",
      "execution_count": 4,
      "metadata": {
        "colab": {
          "base_uri": "https://localhost:8080/"
        },
        "id": "9ujs04PILpji",
        "outputId": "a4c87be0-b4e7-4841-b0f0-99cb5bf6b1c1"
      },
      "outputs": [
        {
          "output_type": "stream",
          "name": "stdout",
          "text": [
            "unzip:  cannot find or open Dataset.zip, Dataset.zip.zip or Dataset.zip.ZIP.\n"
          ]
        }
      ],
      "source": [
        "# Unzipping the dataset\n",
        "!unzip 'Dataset.zip'"
      ]
    },
    {
      "cell_type": "markdown",
      "metadata": {
        "id": "KgCrKFSAYO1q"
      },
      "source": [
        "# Image Preprocessing"
      ]
    },
    {
      "cell_type": "code",
      "execution_count": 5,
      "metadata": {
        "id": "OKgDI9z8Thea"
      },
      "outputs": [],
      "source": [
        "from keras.preprocessing.image import ImageDataGenerator"
      ]
    },
    {
      "cell_type": "markdown",
      "metadata": {
        "id": "8qeYNoAeUPpJ"
      },
      "source": [
        "# Image Data Augmentation"
      ]
    },
    {
      "cell_type": "code",
      "execution_count": 6,
      "metadata": {
        "id": "9itk5t-hUCAd"
      },
      "outputs": [],
      "source": [
        "train_datagen = ImageDataGenerator(rescale=1./255,shear_range=0.2,zoom_range=0.2,horizontal_flip=True)\n",
        "test_datagen=ImageDataGenerator(rescale=1./255)"
      ]
    },
    {
      "cell_type": "markdown",
      "metadata": {
        "id": "a1_zKEGqm7sM"
      },
      "source": [
        "# Applying Image DataGenerator Functionality To Trainset And Testset"
      ]
    },
    {
      "cell_type": "code",
      "execution_count": 10,
      "metadata": {
        "colab": {
          "base_uri": "https://localhost:8080/"
        },
        "id": "3l0S6XKpUOUw",
        "outputId": "61e6dd96-0cf3-4c97-9929-0681f9aa6ff6"
      },
      "outputs": [
        {
          "output_type": "stream",
          "name": "stdout",
          "text": [
            "Found 2626 images belonging to 5 classes.\n",
            "Found 1055 images belonging to 5 classes.\n"
          ]
        }
      ],
      "source": [
        "x_train = train_datagen.flow_from_directory(\n",
        "    r'/content/drive/MyDrive/Dataset/TRAIN_SET/TRAIN_SET',\n",
        "    target_size=(64, 64),batch_size=5,color_mode='rgb',class_mode='sparse')\n",
        "x_test = test_datagen.flow_from_directory(\n",
        "    r'/content/drive/MyDrive/Dataset/TEST_SET',\n",
        "    target_size=(64, 64),batch_size=5,color_mode='rgb',class_mode='sparse') "
      ]
    },
    {
      "cell_type": "code",
      "execution_count": 11,
      "metadata": {
        "colab": {
          "base_uri": "https://localhost:8080/"
        },
        "id": "5kQ05xVjqxlD",
        "outputId": "d8578d37-78b3-4874-b007-9ff50fdae5f9"
      },
      "outputs": [
        {
          "output_type": "stream",
          "name": "stdout",
          "text": [
            "{'APPLES': 0, 'BANANA': 1, 'ORANGE': 2, 'PINEAPPLE': 3, 'WATERMELON': 4}\n"
          ]
        }
      ],
      "source": [
        "#checking the number of classes\n",
        "print(x_train.class_indices)"
      ]
    },
    {
      "cell_type": "code",
      "execution_count": 12,
      "metadata": {
        "colab": {
          "base_uri": "https://localhost:8080/"
        },
        "id": "owPaMFgGrQT-",
        "outputId": "ac10e67c-e904-48a9-b6e3-5ee0843bf86b"
      },
      "outputs": [
        {
          "output_type": "stream",
          "name": "stdout",
          "text": [
            "{'APPLES': 0, 'BANANA': 1, 'ORANGE': 2, 'PINEAPPLE': 3, 'WATERMELON': 4}\n"
          ]
        }
      ],
      "source": [
        "#checking the number of classes\n",
        "print(x_test.class_indices)"
      ]
    },
    {
      "cell_type": "code",
      "execution_count": 13,
      "metadata": {
        "colab": {
          "base_uri": "https://localhost:8080/"
        },
        "id": "yWWDoRDw5pIA",
        "outputId": "e2f08293-d96f-4b10-f1a7-ad63ab6c0f63"
      },
      "outputs": [
        {
          "output_type": "execute_result",
          "data": {
            "text/plain": [
              "Counter({0: 606, 1: 445, 2: 479, 3: 621, 4: 475})"
            ]
          },
          "metadata": {},
          "execution_count": 13
        }
      ],
      "source": [
        "from collections import Counter as c\n",
        "c(x_train .labels)"
      ]
    },
    {
      "cell_type": "markdown",
      "metadata": {
        "id": "aX_yNUr-Tbr1"
      },
      "source": [
        "# Model Building"
      ]
    },
    {
      "cell_type": "markdown",
      "metadata": {
        "id": "lVZwyE5MTo5E"
      },
      "source": [
        "1. Importing The Model Building Libraries"
      ]
    },
    {
      "cell_type": "code",
      "execution_count": 14,
      "metadata": {
        "id": "tEtJC1nHTxCg"
      },
      "outputs": [],
      "source": [
        "import numpy as np\n",
        "import tensorflow as tf\n",
        "from tensorflow.keras.models import Sequential \n",
        "from tensorflow.keras import layers\n",
        "from tensorflow.keras.layers import Dense,Flatten\n",
        "from tensorflow.keras.layers import Conv2D,MaxPooling2D,Dropout "
      ]
    },
    {
      "cell_type": "markdown",
      "metadata": {
        "id": "I9NGWvH7UYzv"
      },
      "source": [
        "2. Initializing The Model"
      ]
    },
    {
      "cell_type": "code",
      "execution_count": 15,
      "metadata": {
        "id": "Ds4P_-dKUumX"
      },
      "outputs": [],
      "source": [
        "classifier = Sequential()"
      ]
    },
    {
      "cell_type": "markdown",
      "metadata": {
        "id": "AtPUSEPbVGc9"
      },
      "source": [
        "3. Adding CNN Layers"
      ]
    },
    {
      "cell_type": "code",
      "execution_count": 16,
      "metadata": {
        "id": "-1OH2yZvVLQ5"
      },
      "outputs": [],
      "source": [
        "classifier = Sequential()\n",
        "classifier.add(Conv2D(32, (3, 3), input_shape=(64, 64, 3), activation='relu'))\n",
        "classifier.add(MaxPooling2D(pool_size=(2, 2)))\n",
        "classifier.add(Conv2D(32, (3, 3), activation='relu'))\n",
        "classifier.add(MaxPooling2D(pool_size=(2, 2)))\n",
        "classifier.add(Flatten())"
      ]
    },
    {
      "cell_type": "markdown",
      "metadata": {
        "id": "qsKF5w2GWEqP"
      },
      "source": [
        "4. Adding Dense Layers"
      ]
    },
    {
      "cell_type": "code",
      "execution_count": 18,
      "metadata": {
        "id": "S0k10QvlW_XO"
      },
      "outputs": [],
      "source": [
        "classifier.add(Dense(units=128, activation='relu'))\n",
        "classifier.add(Dense(units=5, activation='softmax'))"
      ]
    },
    {
      "cell_type": "code",
      "execution_count": 19,
      "metadata": {
        "colab": {
          "base_uri": "https://localhost:8080/"
        },
        "id": "5dSfOw44XAYJ",
        "outputId": "b8a9969f-7828-48df-9dd6-d6dee684360e"
      },
      "outputs": [
        {
          "output_type": "stream",
          "name": "stdout",
          "text": [
            "Model: \"sequential_2\"\n",
            "_________________________________________________________________\n",
            " Layer (type)                Output Shape              Param #   \n",
            "=================================================================\n",
            " conv2d_2 (Conv2D)           (None, 62, 62, 32)        896       \n",
            "                                                                 \n",
            " max_pooling2d_2 (MaxPooling  (None, 31, 31, 32)       0         \n",
            " 2D)                                                             \n",
            "                                                                 \n",
            " conv2d_3 (Conv2D)           (None, 29, 29, 32)        9248      \n",
            "                                                                 \n",
            " max_pooling2d_3 (MaxPooling  (None, 14, 14, 32)       0         \n",
            " 2D)                                                             \n",
            "                                                                 \n",
            " flatten_1 (Flatten)         (None, 6272)              0         \n",
            "                                                                 \n",
            " dense (Dense)               (None, 128)               802944    \n",
            "                                                                 \n",
            " dense_1 (Dense)             (None, 5)                 645       \n",
            "                                                                 \n",
            "=================================================================\n",
            "Total params: 813,733\n",
            "Trainable params: 813,733\n",
            "Non-trainable params: 0\n",
            "_________________________________________________________________\n"
          ]
        }
      ],
      "source": [
        "classifier.summary()"
      ]
    },
    {
      "cell_type": "markdown",
      "metadata": {
        "id": "a7-D6eqLXVvb"
      },
      "source": [
        "5. Configure The Learning Process"
      ]
    },
    {
      "cell_type": "code",
      "execution_count": 20,
      "metadata": {
        "id": "OaW4i5-DXbq2"
      },
      "outputs": [],
      "source": [
        "classifier.compile(optimizer='adam', loss='sparse_categorical_crossentropy', metrics=['accuracy']) "
      ]
    },
    {
      "cell_type": "markdown",
      "metadata": {
        "id": "NNbxOTffpOT5"
      },
      "source": [
        "6. Train The Model"
      ]
    },
    {
      "cell_type": "code",
      "execution_count": 21,
      "metadata": {
        "colab": {
          "base_uri": "https://localhost:8080/"
        },
        "id": "8S_wmvKzpk1c",
        "outputId": "b1bd3e00-aa38-4a69-d352-94838f94a32a"
      },
      "outputs": [
        {
          "output_type": "stream",
          "name": "stderr",
          "text": [
            "/usr/local/lib/python3.7/dist-packages/ipykernel_launcher.py:1: UserWarning: `Model.fit_generator` is deprecated and will be removed in a future version. Please use `Model.fit`, which supports generators.\n",
            "  \"\"\"Entry point for launching an IPython kernel.\n"
          ]
        },
        {
          "output_type": "stream",
          "name": "stdout",
          "text": [
            "Epoch 1/20\n",
            "526/526 [==============================] - 797s 2s/step - loss: 0.2447 - accuracy: 0.9177 - val_loss: 0.0785 - val_accuracy: 0.9687\n",
            "Epoch 2/20\n",
            "526/526 [==============================] - 33s 62ms/step - loss: 0.0108 - accuracy: 0.9970 - val_loss: 0.0293 - val_accuracy: 0.9839\n",
            "Epoch 3/20\n",
            "526/526 [==============================] - 31s 58ms/step - loss: 0.0063 - accuracy: 0.9981 - val_loss: 0.0221 - val_accuracy: 0.9905\n",
            "Epoch 4/20\n",
            "526/526 [==============================] - 31s 59ms/step - loss: 0.0301 - accuracy: 0.9905 - val_loss: 0.0012 - val_accuracy: 1.0000\n",
            "Epoch 5/20\n",
            "526/526 [==============================] - 35s 66ms/step - loss: 0.0164 - accuracy: 0.9947 - val_loss: 3.9721e-04 - val_accuracy: 1.0000\n",
            "Epoch 6/20\n",
            "526/526 [==============================] - 32s 62ms/step - loss: 0.0034 - accuracy: 0.9996 - val_loss: 5.3207e-04 - val_accuracy: 1.0000\n",
            "Epoch 7/20\n",
            "526/526 [==============================] - 31s 60ms/step - loss: 0.0096 - accuracy: 0.9973 - val_loss: 0.0034 - val_accuracy: 1.0000\n",
            "Epoch 8/20\n",
            "526/526 [==============================] - 31s 59ms/step - loss: 4.5088e-05 - accuracy: 1.0000 - val_loss: 0.0020 - val_accuracy: 1.0000\n",
            "Epoch 9/20\n",
            "526/526 [==============================] - 34s 64ms/step - loss: 1.9497e-05 - accuracy: 1.0000 - val_loss: 0.0023 - val_accuracy: 1.0000\n",
            "Epoch 10/20\n",
            "526/526 [==============================] - 31s 59ms/step - loss: 8.4534e-06 - accuracy: 1.0000 - val_loss: 9.6444e-04 - val_accuracy: 1.0000\n",
            "Epoch 11/20\n",
            "526/526 [==============================] - 30s 58ms/step - loss: 6.1064e-06 - accuracy: 1.0000 - val_loss: 4.8986e-04 - val_accuracy: 1.0000\n",
            "Epoch 12/20\n",
            "526/526 [==============================] - 29s 55ms/step - loss: 4.0571e-06 - accuracy: 1.0000 - val_loss: 7.1194e-04 - val_accuracy: 1.0000\n",
            "Epoch 13/20\n",
            "526/526 [==============================] - 31s 59ms/step - loss: 3.0739e-06 - accuracy: 1.0000 - val_loss: 4.7991e-04 - val_accuracy: 1.0000\n",
            "Epoch 14/20\n",
            "526/526 [==============================] - 33s 63ms/step - loss: 1.7471e-06 - accuracy: 1.0000 - val_loss: 6.2008e-04 - val_accuracy: 1.0000\n",
            "Epoch 15/20\n",
            "526/526 [==============================] - 32s 61ms/step - loss: 2.2384e-06 - accuracy: 1.0000 - val_loss: 5.3079e-04 - val_accuracy: 1.0000\n",
            "Epoch 16/20\n",
            "526/526 [==============================] - 33s 62ms/step - loss: 9.9659e-07 - accuracy: 1.0000 - val_loss: 3.9803e-04 - val_accuracy: 1.0000\n",
            "Epoch 17/20\n",
            "526/526 [==============================] - 32s 61ms/step - loss: 8.7353e-07 - accuracy: 1.0000 - val_loss: 5.1256e-04 - val_accuracy: 1.0000\n",
            "Epoch 18/20\n",
            "526/526 [==============================] - 31s 59ms/step - loss: 5.4301e-07 - accuracy: 1.0000 - val_loss: 3.5551e-04 - val_accuracy: 1.0000\n",
            "Epoch 19/20\n",
            "526/526 [==============================] - 33s 62ms/step - loss: 5.0357e-07 - accuracy: 1.0000 - val_loss: 3.4893e-04 - val_accuracy: 1.0000\n",
            "Epoch 20/20\n",
            "526/526 [==============================] - 31s 58ms/step - loss: 3.1523e-07 - accuracy: 1.0000 - val_loss: 3.8704e-04 - val_accuracy: 1.0000\n"
          ]
        },
        {
          "output_type": "execute_result",
          "data": {
            "text/plain": [
              "<keras.callbacks.History at 0x7fbfe52a3650>"
            ]
          },
          "metadata": {},
          "execution_count": 21
        }
      ],
      "source": [
        "classifier.fit_generator(generator=x_train,steps_per_epoch = len(x_train),epochs=20, validation_data=x_test,validation_steps = len(x_test))"
      ]
    },
    {
      "cell_type": "markdown",
      "metadata": {
        "id": "vuF7tEabqDWP"
      },
      "source": [
        "7. Saving The Model"
      ]
    },
    {
      "cell_type": "code",
      "execution_count": 22,
      "metadata": {
        "id": "lOsJVlViqKGN"
      },
      "outputs": [],
      "source": [
        "classifier.save('nutrition.h5')"
      ]
    },
    {
      "cell_type": "markdown",
      "metadata": {
        "id": "ofuoBxVHqYkY"
      },
      "source": [
        "8. Testing The Model"
      ]
    },
    {
      "cell_type": "code",
      "execution_count": 23,
      "metadata": {
        "id": "uXhCmwdJqby9"
      },
      "outputs": [],
      "source": [
        "from tensorflow.keras.models import load_model\n",
        "from keras.preprocessing import image\n",
        "model = load_model(\"nutrition.h5\")"
      ]
    },
    {
      "cell_type": "code",
      "execution_count": 27,
      "metadata": {
        "colab": {
          "base_uri": "https://localhost:8080/"
        },
        "id": "lSQ6tnsR5pIc",
        "outputId": "20f2cc39-77c2-47e7-ce5f-2defda99889f"
      },
      "outputs": [
        {
          "output_type": "stream",
          "name": "stdout",
          "text": [
            "1/1 [==============================] - 0s 110ms/step\n"
          ]
        },
        {
          "output_type": "execute_result",
          "data": {
            "text/plain": [
              "array([0])"
            ]
          },
          "metadata": {},
          "execution_count": 27
        }
      ],
      "source": [
        "from tensorflow.keras.models import load_model\n",
        "from tensorflow.keras.preprocessing import image\n",
        "model = load_model(\"nutrition.h5\")\n",
        "img = image.load_img(r'/content/drive/MyDrive/Flask/Sample_Images/Test_Image1.jpg',grayscale=False,target_size= (64,64))\n",
        "x = tf.keras.preprocessing.image.img_to_array(img)\n",
        "x = np.expand_dims(x,axis = 0)\n",
        "predict_x=model.predict(x) \n",
        "classes_x=np.argmax(predict_x,axis=-1)\n",
        "classes_x"
      ]
    },
    {
      "cell_type": "code",
      "execution_count": 28,
      "metadata": {
        "colab": {
          "base_uri": "https://localhost:8080/",
          "height": 36
        },
        "id": "lKP8KSCpoIwn",
        "outputId": "91cc20f7-73e9-4aab-d98b-69740c5969a2"
      },
      "outputs": [
        {
          "output_type": "execute_result",
          "data": {
            "text/plain": [
              "'APPLES'"
            ],
            "application/vnd.google.colaboratory.intrinsic+json": {
              "type": "string"
            }
          },
          "metadata": {},
          "execution_count": 28
        }
      ],
      "source": [
        "index=['APPLES', 'BANANA', 'ORANGE','PINEAPPLE','WATERMELON']\n",
        "result=str(index[classes_x[0]])\n",
        "result"
      ]
    }
  ],
  "metadata": {
    "accelerator": "TPU",
    "colab": {
      "provenance": []
    },
    "gpuClass": "standard",
    "kernelspec": {
      "display_name": "Python 3",
      "name": "python3"
    },
    "language_info": {
      "name": "python"
    }
  },
  "nbformat": 4,
  "nbformat_minor": 0
}